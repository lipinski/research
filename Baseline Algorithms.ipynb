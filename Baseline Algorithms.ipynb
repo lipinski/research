{
 "cells": [
  {
   "cell_type": "markdown",
   "metadata": {},
   "source": [
    "A baseline is a method that uses heuristics, simple summary statistics, randomness, or machine learning to create predictions for a dataset. You can use these predictions to measure the baseline's performance (e.g., accuracy)-- this metric will then become what you compare any other machine learning algorithm against."
   ]
  },
  {
   "cell_type": "markdown",
   "metadata": {},
   "source": [
    "# From scratch"
   ]
  },
  {
   "cell_type": "markdown",
   "metadata": {},
   "source": [
    "This section describes some basic algorithm implemented from scratch. "
   ]
  },
  {
   "cell_type": "markdown",
   "metadata": {},
   "source": [
    "## Random Prediction Algorithm"
   ]
  },
  {
   "cell_type": "markdown",
   "metadata": {},
   "source": [
    "Random prediction algorithm is very simple to implement, because it predicts random outcome in the data set."
   ]
  },
  {
   "cell_type": "code",
   "execution_count": 1,
   "metadata": {
    "collapsed": true
   },
   "outputs": [],
   "source": [
    "import random\n",
    "import collections\n",
    "\n",
    "import numpy as np"
   ]
  },
  {
   "cell_type": "markdown",
   "metadata": {},
   "source": [
    "This function generates random predictions for classification and regression problem."
   ]
  },
  {
   "cell_type": "code",
   "execution_count": 2,
   "metadata": {
    "collapsed": false
   },
   "outputs": [],
   "source": [
    "def random_algorithm(y, test, seed=None):\n",
    "    random.seed(seed)\n",
    "    \n",
    "    output_values = np.unique(y)\n",
    "    predicted = list()\n",
    "    \n",
    "    for row in test:\n",
    "        index = random.randrange(len(output_values))\n",
    "        predicted.append(output_values[index])\n",
    "    \n",
    "    return predicted"
   ]
  },
  {
   "cell_type": "markdown",
   "metadata": {},
   "source": [
    "**Example**"
   ]
  },
  {
   "cell_type": "code",
   "execution_count": 3,
   "metadata": {
    "collapsed": true
   },
   "outputs": [],
   "source": [
    "from sklearn import datasets\n",
    "from sklearn import metrics"
   ]
  },
  {
   "cell_type": "code",
   "execution_count": 4,
   "metadata": {
    "collapsed": false
   },
   "outputs": [
    {
     "name": "stdout",
     "output_type": "stream",
     "text": [
      "Random Prediction Accuracy: 0.36\n",
      "Prediction: [1, 0, 0, 0, 2, 2, 2, 0, 1, 0]\n"
     ]
    }
   ],
   "source": [
    "iris = datasets.load_iris()\n",
    "\n",
    "X, y = iris['data'], iris['target']\n",
    "y_predicted = random_algorithm(y, X, seed=42)\n",
    "\n",
    "print 'Random Prediction Accuracy:', metrics.accuracy_score(y, y_predicted)\n",
    "print 'Prediction:', y_predicted[:10]"
   ]
  },
  {
   "cell_type": "markdown",
   "metadata": {},
   "source": [
    "## Zero Rule Algorithm"
   ]
  },
  {
   "cell_type": "markdown",
   "metadata": {},
   "source": [
    "The Zero Rule Algorithm uses information from data to generate one rule for making predictions. This rule depends on a problem type (regression or classiciation). For classification problems, the algorithm predicts majority class. For regression, it can uses mean or median."
   ]
  },
  {
   "cell_type": "code",
   "execution_count": 5,
   "metadata": {
    "collapsed": true
   },
   "outputs": [],
   "source": [
    "def zero_rule_algorithm(y, test, problem='classification', regression_method=np.mean, seed=None):\n",
    "    if problem == 'classification':\n",
    "        y = list(y)\n",
    "        prediction = max(y, key=y.count)\n",
    "    else:\n",
    "        prediction = regression_method(y)\n",
    "    \n",
    "    y_predicted = map(lambda x: prediction, test)\n",
    "    \n",
    "    return y_predicted"
   ]
  },
  {
   "cell_type": "markdown",
   "metadata": {},
   "source": [
    "**Example**"
   ]
  },
  {
   "cell_type": "markdown",
   "metadata": {},
   "source": [
    "For classification."
   ]
  },
  {
   "cell_type": "code",
   "execution_count": 6,
   "metadata": {
    "collapsed": false
   },
   "outputs": [
    {
     "name": "stdout",
     "output_type": "stream",
     "text": [
      "Number instances in classes: Counter({0: 50, 1: 50, 2: 50})\n",
      "Zero Rule Algorithm Accuracy: 0.333333333333\n",
      "Prediction: [0, 0, 0, 0, 0, 0, 0, 0, 0, 0]\n"
     ]
    }
   ],
   "source": [
    "iris = datasets.load_iris()\n",
    "\n",
    "X, y = iris['data'], iris['target']\n",
    "y_predicted = zero_rule_algorithm(y, X, problem='classification', seed=42)\n",
    "\n",
    "print 'Number instances in classes:', collections.Counter(y)\n",
    "print 'Zero Rule Algorithm Accuracy:', metrics.accuracy_score(y, y_predicted)\n",
    "print 'Prediction:', y_predicted[:10]"
   ]
  },
  {
   "cell_type": "markdown",
   "metadata": {},
   "source": [
    "For regression."
   ]
  },
  {
   "cell_type": "code",
   "execution_count": 7,
   "metadata": {
    "collapsed": false
   },
   "outputs": [
    {
     "name": "stdout",
     "output_type": "stream",
     "text": [
      "Using mean method\n",
      "Zero Rule Algorithm Mean Squared Error: 84.4195561562\n",
      "Prediction: [22.532806324110677, 22.532806324110677, 22.532806324110677, 22.532806324110677, 22.532806324110677]\n",
      "\n",
      "Using median method\n",
      "Zero Rule Algorithm Mean Squared Error: 86.1959288538\n",
      "Prediction: [21.199999999999999, 21.199999999999999, 21.199999999999999, 21.199999999999999, 21.199999999999999]\n"
     ]
    }
   ],
   "source": [
    "boston = datasets.load_boston()\n",
    "X, y = boston['data'], boston['target']\n",
    "\n",
    "y_predicted = zero_rule_algorithm(y, X, problem='regression', regression_method=np.mean, seed=42)\n",
    "\n",
    "print 'Using mean method'\n",
    "print 'Zero Rule Algorithm Mean Squared Error:', metrics.mean_squared_error(y, y_predicted)\n",
    "print 'Prediction:', y_predicted[:5]\n",
    "\n",
    "y_predicted = zero_rule_algorithm(y, X, problem='regression', regression_method=np.median, seed=42)\n",
    "\n",
    "print '\\nUsing median method'\n",
    "print 'Zero Rule Algorithm Mean Squared Error:', metrics.mean_squared_error(y, y_predicted)\n",
    "print 'Prediction:', y_predicted[:5]"
   ]
  },
  {
   "cell_type": "markdown",
   "metadata": {},
   "source": [
    "# Using dummy estimators from scikit-learn"
   ]
  },
  {
   "cell_type": "markdown",
   "metadata": {
    "collapsed": true
   },
   "source": [
    "Dummies estimators are available in scikit-learn. For classification and regression problems, there are several simple strategies. Information is available here: http://scikit-learn.org/stable/modules/generated/sklearn.dummy.DummyClassifier.html"
   ]
  },
  {
   "cell_type": "code",
   "execution_count": 28,
   "metadata": {
    "collapsed": false
   },
   "outputs": [],
   "source": [
    "import pandas as pd\n",
    "\n",
    "from sklearn import cross_validation\n",
    "from sklearn import dummy\n",
    "from sklearn import linear_model"
   ]
  },
  {
   "cell_type": "markdown",
   "metadata": {},
   "source": [
    "** Example 1**  \n",
    "Testing all possible method for classification problem (same as above)."
   ]
  },
  {
   "cell_type": "code",
   "execution_count": 73,
   "metadata": {
    "collapsed": false
   },
   "outputs": [
    {
     "data": {
      "text/html": [
       "<div>\n",
       "<table border=\"1\" class=\"dataframe\">\n",
       "  <thead>\n",
       "    <tr style=\"text-align: right;\">\n",
       "      <th></th>\n",
       "      <th>strategy</th>\n",
       "      <th>accuracy</th>\n",
       "    </tr>\n",
       "  </thead>\n",
       "  <tbody>\n",
       "    <tr>\n",
       "      <th>0</th>\n",
       "      <td>stratified</td>\n",
       "      <td>0.533333</td>\n",
       "    </tr>\n",
       "    <tr>\n",
       "      <th>1</th>\n",
       "      <td>most_frequent</td>\n",
       "      <td>0.700000</td>\n",
       "    </tr>\n",
       "    <tr>\n",
       "      <th>2</th>\n",
       "      <td>prior</td>\n",
       "      <td>0.700000</td>\n",
       "    </tr>\n",
       "    <tr>\n",
       "      <th>3</th>\n",
       "      <td>uniform</td>\n",
       "      <td>0.366667</td>\n",
       "    </tr>\n",
       "    <tr>\n",
       "      <th>4</th>\n",
       "      <td>constant</td>\n",
       "      <td>0.700000</td>\n",
       "    </tr>\n",
       "  </tbody>\n",
       "</table>\n",
       "</div>"
      ],
      "text/plain": [
       "        strategy  accuracy\n",
       "0     stratified  0.533333\n",
       "1  most_frequent  0.700000\n",
       "2          prior  0.700000\n",
       "3        uniform  0.366667\n",
       "4       constant  0.700000"
      ]
     },
     "execution_count": 73,
     "metadata": {},
     "output_type": "execute_result"
    }
   ],
   "source": [
    "random_state = 42\n",
    "\n",
    "iris = datasets.load_iris()\n",
    "\n",
    "X, y = iris['data'], iris['target']\n",
    "\n",
    "# Change target values for creating imbalanced dataset\n",
    "y[y != 1] = 0\n",
    "\n",
    "# Split data set to train and test subset\n",
    "X_train, X_test, y_train, y_test = cross_validation.train_test_split(X, y, train_size=0.8, random_state=random_state)\n",
    "\n",
    "# All available methods\n",
    "strategies = ['stratified', 'most_frequent', 'prior', 'uniform', 'constant']\n",
    "results = []\n",
    "\n",
    "# Set random state for reproducibility\n",
    "for strategy in strategies:\n",
    "    if strategy == 'constant':\n",
    "        # For constant method, constructor requires constant param\n",
    "        dummy_model = dummy.DummyClassifier(strategy=strategy, random_state=random_state, constant=0)\n",
    "    else:\n",
    "        dummy_model = dummy.DummyClassifier(strategy=strategy, random_state=random_state)\n",
    "    \n",
    "    dummy_model.fit(X_train, y_train)\n",
    "    \n",
    "    y_predicted = dummy_model.predict(X_test)\n",
    "    accuracy = metrics.accuracy_score(y_test, y_predicted)\n",
    "    \n",
    "    results.append((strategy, accuracy))\n",
    "    \n",
    "pd.DataFrame(results, columns=['strategy', 'accuracy'])"
   ]
  },
  {
   "cell_type": "markdown",
   "metadata": {},
   "source": [
    "For comparing, below test shows accuracy for a real model."
   ]
  },
  {
   "cell_type": "code",
   "execution_count": 74,
   "metadata": {
    "collapsed": false
   },
   "outputs": [
    {
     "name": "stdout",
     "output_type": "stream",
     "text": [
      "Logistic Regression Accuracy: 0.766666666667\n"
     ]
    }
   ],
   "source": [
    "model = linear_model.LogisticRegression()\n",
    "model.fit(X_train, y_train)\n",
    "\n",
    "y_predicted = model.predict(X_test)\n",
    "\n",
    "print 'Logistic Regression Accuracy:', metrics.accuracy_score(y_test, y_predicted)"
   ]
  },
  {
   "cell_type": "markdown",
   "metadata": {},
   "source": [
    "** Example 2**  \n",
    "Testing all possible method for regression problem (same as above)."
   ]
  },
  {
   "cell_type": "code",
   "execution_count": 75,
   "metadata": {
    "collapsed": false
   },
   "outputs": [
    {
     "name": "stdout",
     "output_type": "stream",
     "text": [
      "mean\n",
      "median\n",
      "quantile\n",
      "constant\n"
     ]
    },
    {
     "data": {
      "text/html": [
       "<div>\n",
       "<table border=\"1\" class=\"dataframe\">\n",
       "  <thead>\n",
       "    <tr style=\"text-align: right;\">\n",
       "      <th></th>\n",
       "      <th>strategy</th>\n",
       "      <th>mean squared error</th>\n",
       "    </tr>\n",
       "  </thead>\n",
       "  <tbody>\n",
       "    <tr>\n",
       "      <th>0</th>\n",
       "      <td>mean</td>\n",
       "      <td>75.045430</td>\n",
       "    </tr>\n",
       "    <tr>\n",
       "      <th>1</th>\n",
       "      <td>median</td>\n",
       "      <td>73.346275</td>\n",
       "    </tr>\n",
       "    <tr>\n",
       "      <th>2</th>\n",
       "      <td>quantile</td>\n",
       "      <td>97.459216</td>\n",
       "    </tr>\n",
       "    <tr>\n",
       "      <th>3</th>\n",
       "      <td>constant</td>\n",
       "      <td>163.360392</td>\n",
       "    </tr>\n",
       "  </tbody>\n",
       "</table>\n",
       "</div>"
      ],
      "text/plain": [
       "   strategy  mean squared error\n",
       "0      mean           75.045430\n",
       "1    median           73.346275\n",
       "2  quantile           97.459216\n",
       "3  constant          163.360392"
      ]
     },
     "execution_count": 75,
     "metadata": {},
     "output_type": "execute_result"
    }
   ],
   "source": [
    "random_state = 42\n",
    "\n",
    "boston = datasets.load_boston()\n",
    "\n",
    "X, y = boston['data'], boston['target']\n",
    "\n",
    "# Split data set to train and test subset\n",
    "X_train, X_test, y_train, y_test = cross_validation.train_test_split(X, y, train_size=0.8, random_state=random_state)\n",
    "\n",
    "strategies = ['mean', 'median', 'quantile', 'constant']\n",
    "results = []\n",
    "\n",
    "for strategy in strategies:\n",
    "    print strategy\n",
    "    if strategy == 'quantile':\n",
    "        # for quantile strategy you need to specify quantile\n",
    "        dummy_model = dummy.DummyRegressor(strategy=strategy, quantile=0.75)\n",
    "    \n",
    "    elif strategy == 'constant':\n",
    "        # for constant strategy you need to specify constant, which must be present in training data set\n",
    "        dummy_model = dummy.DummyRegressor(strategy=strategy, constant=12.0)\n",
    "    \n",
    "    else:\n",
    "        dummy_model = dummy.DummyRegressor(strategy=strategy, constant=12.0)\n",
    "        \n",
    "    dummy_model.fit(X_train, y_train)\n",
    "    y_predicted = dummy_model.predict(X_test)\n",
    "    \n",
    "    mse = metrics.mean_squared_error(y_test, y_predicted)\n",
    "    \n",
    "    results.append((strategy, mse))\n",
    "\n",
    "pd.DataFrame(results, columns=['strategy', 'mean squared error'])"
   ]
  },
  {
   "cell_type": "markdown",
   "metadata": {},
   "source": [
    "For comparing, below test shows mean squared error for a real model."
   ]
  },
  {
   "cell_type": "code",
   "execution_count": 77,
   "metadata": {
    "collapsed": false
   },
   "outputs": [
    {
     "name": "stdout",
     "output_type": "stream",
     "text": [
      "Linear Regression Mean Squared Error: 24.3114269297\n"
     ]
    }
   ],
   "source": [
    "model = linear_model.LinearRegression()\n",
    "model.fit(X_train, y_train)\n",
    "\n",
    "y_predicted = model.predict(X_test)\n",
    "\n",
    "print 'Linear Regression Mean Squared Error:', metrics.mean_squared_error(y_test, y_predicted)"
   ]
  }
 ],
 "metadata": {
  "kernelspec": {
   "display_name": "Python 2",
   "language": "python",
   "name": "python2"
  },
  "language_info": {
   "codemirror_mode": {
    "name": "ipython",
    "version": 2
   },
   "file_extension": ".py",
   "mimetype": "text/x-python",
   "name": "python",
   "nbconvert_exporter": "python",
   "pygments_lexer": "ipython2",
   "version": "2.7.12"
  }
 },
 "nbformat": 4,
 "nbformat_minor": 1
}
