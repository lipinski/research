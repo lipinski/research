{
 "cells": [
  {
   "cell_type": "code",
   "execution_count": 73,
   "metadata": {
    "collapsed": true
   },
   "outputs": [],
   "source": [
    "import pandas as pd\n",
    "import numpy as np\n",
    "import seaborn as sns\n",
    "\n",
    "from sklearn.cross_validation import train_test_split\n",
    "from sklearn.linear_model import LogisticRegression\n",
    "from sklearn.metrics import confusion_matrix, roc_auc_score\n",
    "from sklearn.datasets import make_classification\n",
    "\n",
    "%matplotlib inline"
   ]
  },
  {
   "cell_type": "markdown",
   "metadata": {},
   "source": [
    "# Prepare dataset"
   ]
  },
  {
   "cell_type": "markdown",
   "metadata": {},
   "source": [
    "We generate same toy data set for learning."
   ]
  },
  {
   "cell_type": "code",
   "execution_count": 103,
   "metadata": {
    "collapsed": false
   },
   "outputs": [
    {
     "data": {
      "text/html": [
       "<div>\n",
       "<table border=\"1\" class=\"dataframe\">\n",
       "  <thead>\n",
       "    <tr style=\"text-align: right;\">\n",
       "      <th></th>\n",
       "      <th>feature1</th>\n",
       "      <th>feature2</th>\n",
       "      <th>feature3</th>\n",
       "      <th>target</th>\n",
       "    </tr>\n",
       "  </thead>\n",
       "  <tbody>\n",
       "    <tr>\n",
       "      <th>0</th>\n",
       "      <td>0.752457</td>\n",
       "      <td>0.481068</td>\n",
       "      <td>0.105942</td>\n",
       "      <td>0</td>\n",
       "    </tr>\n",
       "    <tr>\n",
       "      <th>1</th>\n",
       "      <td>-1.988784</td>\n",
       "      <td>-0.449766</td>\n",
       "      <td>-3.462028</td>\n",
       "      <td>0</td>\n",
       "    </tr>\n",
       "    <tr>\n",
       "      <th>2</th>\n",
       "      <td>1.856330</td>\n",
       "      <td>1.181396</td>\n",
       "      <td>2.798389</td>\n",
       "      <td>0</td>\n",
       "    </tr>\n",
       "    <tr>\n",
       "      <th>3</th>\n",
       "      <td>1.245103</td>\n",
       "      <td>1.361400</td>\n",
       "      <td>1.617205</td>\n",
       "      <td>0</td>\n",
       "    </tr>\n",
       "    <tr>\n",
       "      <th>4</th>\n",
       "      <td>-1.843974</td>\n",
       "      <td>-0.471203</td>\n",
       "      <td>-1.927955</td>\n",
       "      <td>0</td>\n",
       "    </tr>\n",
       "  </tbody>\n",
       "</table>\n",
       "</div>"
      ],
      "text/plain": [
       "   feature1  feature2  feature3  target\n",
       "0  0.752457  0.481068  0.105942       0\n",
       "1 -1.988784 -0.449766 -3.462028       0\n",
       "2  1.856330  1.181396  2.798389       0\n",
       "3  1.245103  1.361400  1.617205       0\n",
       "4 -1.843974 -0.471203 -1.927955       0"
      ]
     },
     "execution_count": 103,
     "metadata": {},
     "output_type": "execute_result"
    }
   ],
   "source": [
    "dataset = make_classification(n_samples=10000, n_features=3, n_informative=3, n_redundant=0, weights=[0.9, 0.1])\n",
    "\n",
    "df = pd.DataFrame({\n",
    "        'feature1': dataset[0][:, 0], \n",
    "        'feature2': dataset[0][:, 1], \n",
    "        'feature3': dataset[0][:, 2],\n",
    "        'target': dataset[1]\n",
    "})\n",
    "\n",
    "df.head()"
   ]
  },
  {
   "cell_type": "markdown",
   "metadata": {},
   "source": [
    "We see imbalanced class. For our purpose, we select online two class 6 and 7."
   ]
  },
  {
   "cell_type": "code",
   "execution_count": 105,
   "metadata": {
    "collapsed": false
   },
   "outputs": [
    {
     "data": {
      "text/plain": [
       "<matplotlib.axes._subplots.AxesSubplot at 0x7f9ec88dae50>"
      ]
     },
     "execution_count": 105,
     "metadata": {},
     "output_type": "execute_result"
    },
    {
     "data": {
      "image/png": "[encoded data removed]",
      "text/plain": [
       "<matplotlib.figure.Figure at 0x7f9ecd3d5e90>"
      ]
     },
     "metadata": {},
     "output_type": "display_data"
    }
   ],
   "source": [
    "df.target.value_counts().plot(kind='bar')"
   ]
  },
  {
   "cell_type": "code",
   "execution_count": 108,
   "metadata": {
    "collapsed": false
   },
   "outputs": [
    {
     "data": {
      "text/plain": [
       "0    8958\n",
       "1    1042\n",
       "Name: target, dtype: int64"
      ]
     },
     "execution_count": 108,
     "metadata": {},
     "output_type": "execute_result"
    }
   ],
   "source": [
    "df.target.value_counts()"
   ]
  },
  {
   "cell_type": "markdown",
   "metadata": {},
   "source": [
    "## Modeling without dealing with imbalanced data"
   ]
  },
  {
   "cell_type": "code",
   "execution_count": 123,
   "metadata": {
    "collapsed": true
   },
   "outputs": [],
   "source": [
    "X_train, X_test, y_train, y_test = train_test_split(\n",
    "    df.drop('target', axis=1), df.target, train_size=0.8, random_state=42\n",
    ")"
   ]
  },
  {
   "cell_type": "code",
   "execution_count": 127,
   "metadata": {
    "collapsed": false
   },
   "outputs": [
    {
     "data": {
      "text/plain": [
       "LogisticRegression(C=1.0, class_weight=None, dual=False, fit_intercept=True,\n",
       "          intercept_scaling=1, max_iter=100, multi_class='ovr', n_jobs=1,\n",
       "          penalty='l2', random_state=42, solver='liblinear', tol=0.0001,\n",
       "          verbose=0, warm_start=False)"
      ]
     },
     "execution_count": 127,
     "metadata": {},
     "output_type": "execute_result"
    }
   ],
   "source": [
    "model = LogisticRegression(random_state=42)\n",
    "model.fit(X_train, y_train)"
   ]
  },
  {
   "cell_type": "code",
   "execution_count": 128,
   "metadata": {
    "collapsed": false
   },
   "outputs": [
    {
     "data": {
      "text/plain": [
       "array([[1773,    2],\n",
       "       [ 218,    7]])"
      ]
     },
     "execution_count": 128,
     "metadata": {},
     "output_type": "execute_result"
    }
   ],
   "source": [
    "y_pred = model.predict(X_test)\n",
    "confusion_matrix(y_test, y_pred, labels=[0, 1])"
   ]
  },
  {
   "cell_type": "code",
   "execution_count": 129,
   "metadata": {
    "collapsed": false
   },
   "outputs": [
    {
     "data": {
      "text/plain": [
       "0.51499217527386543"
      ]
     },
     "execution_count": 129,
     "metadata": {},
     "output_type": "execute_result"
    }
   ],
   "source": [
    "roc_auc_score(y_test, y_pred)"
   ]
  },
  {
   "cell_type": "markdown",
   "metadata": {},
   "source": [
    "We can use class_weight parameter, but we want to learn new method for imbalanced data."
   ]
  },
  {
   "cell_type": "markdown",
   "metadata": {},
   "source": [
    "## Class weight in Scikit learn"
   ]
  },
  {
   "cell_type": "code",
   "execution_count": 252,
   "metadata": {
    "collapsed": false
   },
   "outputs": [
    {
     "data": {
      "text/plain": [
       "array([[1222,  553],\n",
       "       [  77,  148]])"
      ]
     },
     "execution_count": 252,
     "metadata": {},
     "output_type": "execute_result"
    }
   ],
   "source": [
    "model = LogisticRegression(random_state=42, class_weight='balanced')\n",
    "model.fit(X_train, y_train)\n",
    "\n",
    "y_pred = model.predict(X_test)\n",
    "confusion_matrix(y_test, y_pred, labels=[0, 1])"
   ]
  },
  {
   "cell_type": "code",
   "execution_count": 249,
   "metadata": {
    "collapsed": false
   },
   "outputs": [
    {
     "data": {
      "text/plain": [
       "0.67311424100156492"
      ]
     },
     "execution_count": 249,
     "metadata": {},
     "output_type": "execute_result"
    }
   ],
   "source": [
    "roc_auc_score(y_test, y_pred)"
   ]
  },
  {
   "cell_type": "markdown",
   "metadata": {},
   "source": [
    "### How it works"
   ]
  },
  {
   "cell_type": "markdown",
   "metadata": {},
   "source": [
    "It is inversely proportional to the number of samples in the class."
   ]
  },
  {
   "cell_type": "markdown",
   "metadata": {},
   "source": [
    "You can compute old way."
   ]
  },
  {
   "cell_type": "code",
   "execution_count": 234,
   "metadata": {
    "collapsed": false
   },
   "outputs": [
    {
     "data": {
      "text/plain": [
       "[1, 0]"
      ]
     },
     "execution_count": 234,
     "metadata": {},
     "output_type": "execute_result"
    }
   ],
   "source": [
    "classes = y_train.unique().tolist()\n",
    "classes"
   ]
  },
  {
   "cell_type": "code",
   "execution_count": 235,
   "metadata": {
    "collapsed": false
   },
   "outputs": [
    {
     "data": {
      "text/plain": [
       "array([7183,  817])"
      ]
     },
     "execution_count": 235,
     "metadata": {},
     "output_type": "execute_result"
    }
   ],
   "source": [
    "bincounts = np.bincount(y_train)\n",
    "bincounts"
   ]
  },
  {
   "cell_type": "code",
   "execution_count": 236,
   "metadata": {
    "collapsed": false
   },
   "outputs": [
    {
     "data": {
      "text/plain": [
       "array([ 0.00013922,  0.00122399])"
      ]
     },
     "execution_count": 236,
     "metadata": {},
     "output_type": "execute_result"
    }
   ],
   "source": [
    "recip_freq = 1.0 / bincounts\n",
    "recip_freq"
   ]
  },
  {
   "cell_type": "code",
   "execution_count": 237,
   "metadata": {
    "collapsed": false
   },
   "outputs": [
    {
     "data": {
      "text/plain": [
       "array([ 0.20425,  1.79575])"
      ]
     },
     "execution_count": 237,
     "metadata": {},
     "output_type": "execute_result"
    }
   ],
   "source": [
    "weights = recip_freq / np.mean(recip_freq)\n",
    "weights"
   ]
  },
  {
   "cell_type": "markdown",
   "metadata": {},
   "source": [
    "Or new way. Based on Logistic Regression in Rare Events Data, King, Zen, 2001."
   ]
  },
  {
   "cell_type": "code",
   "execution_count": 243,
   "metadata": {
    "collapsed": false
   },
   "outputs": [
    {
     "data": {
      "text/plain": [
       "array([ 0.55687039,  4.89596083])"
      ]
     },
     "execution_count": 243,
     "metadata": {},
     "output_type": "execute_result"
    }
   ],
   "source": [
    "weights = len(y_train) / (len(classes) * np.bincount(y_train).astype(float))\n",
    "weights"
   ]
  },
  {
   "cell_type": "markdown",
   "metadata": {},
   "source": [
    "Basically, it changes regularized parameter of C.\n",
    "\n",
    "weights[i] * C"
   ]
  },
  {
   "cell_type": "markdown",
   "metadata": {},
   "source": [
    "# Undersampling"
   ]
  },
  {
   "cell_type": "markdown",
   "metadata": {},
   "source": [
    "We distinguish two undersampling methods: informative and random. Informative undersampling are Easy Ensemble and Balance Cascade. In random undersampling we remove observations from majority class."
   ]
  },
  {
   "cell_type": "markdown",
   "metadata": {},
   "source": [
    "## Easy Ensemble"
   ]
  },
  {
   "cell_type": "markdown",
   "metadata": {},
   "source": [
    "We need to get several subsets of independend sample. It means, that you need to take sample with replacement from majority class."
   ]
  },
  {
   "cell_type": "code",
   "execution_count": 148,
   "metadata": {
    "collapsed": false,
    "scrolled": false
   },
   "outputs": [
    {
     "data": {
      "text/plain": [
       "(1042, 4)"
      ]
     },
     "execution_count": 148,
     "metadata": {},
     "output_type": "execute_result"
    }
   ],
   "source": [
    "minority_df = df[df.target == 1]\n",
    "majority_df_sample = df[df.target == 0].sample(minority_df.shape[0], random_state=42, replace=True)\n",
    "majority_df_sample.shape"
   ]
  },
  {
   "cell_type": "markdown",
   "metadata": {},
   "source": [
    "Now we can learn some classifiers."
   ]
  },
  {
   "cell_type": "code",
   "execution_count": 223,
   "metadata": {
    "collapsed": false
   },
   "outputs": [],
   "source": [
    "estimators = []\n",
    "idx = y_train[y_train == 1].index\n",
    "X_pos = X_train.ix[idx]\n",
    "y_pos = y_train.ix[idx]\n",
    "\n",
    "for _ in range(10):\n",
    "    idx = y_train[y_train == 0].sample(X_pos.shape[0], random_state=_, replace=True).index\n",
    "    \n",
    "    model = LogisticRegression() \n",
    "    model.fit(X_pos.append(X_train.ix[idx]), y_pos.append(y_train.ix[idx]))\n",
    "    \n",
    "    estimators.append(('model_{}'.format(_), model))"
   ]
  },
  {
   "cell_type": "markdown",
   "metadata": {},
   "source": [
    "We get probabilities."
   ]
  },
  {
   "cell_type": "code",
   "execution_count": 229,
   "metadata": {
    "collapsed": false
   },
   "outputs": [
    {
     "data": {
      "text/html": [
       "<div>\n",
       "<table border=\"1\" class=\"dataframe\">\n",
       "  <thead>\n",
       "    <tr style=\"text-align: right;\">\n",
       "      <th></th>\n",
       "      <th>target</th>\n",
       "      <th>model_0</th>\n",
       "      <th>model_1</th>\n",
       "      <th>model_2</th>\n",
       "      <th>model_3</th>\n",
       "      <th>model_4</th>\n",
       "      <th>model_5</th>\n",
       "      <th>model_6</th>\n",
       "      <th>model_7</th>\n",
       "      <th>model_8</th>\n",
       "      <th>model_9</th>\n",
       "      <th>probability</th>\n",
       "      <th>prediction</th>\n",
       "    </tr>\n",
       "  </thead>\n",
       "  <tbody>\n",
       "    <tr>\n",
       "      <th>6252</th>\n",
       "      <td>0</td>\n",
       "      <td>0.307361</td>\n",
       "      <td>0.328110</td>\n",
       "      <td>0.291386</td>\n",
       "      <td>0.330929</td>\n",
       "      <td>0.333173</td>\n",
       "      <td>0.315174</td>\n",
       "      <td>0.350887</td>\n",
       "      <td>0.312463</td>\n",
       "      <td>0.320279</td>\n",
       "      <td>0.327973</td>\n",
       "      <td>0.321773</td>\n",
       "      <td>0</td>\n",
       "    </tr>\n",
       "    <tr>\n",
       "      <th>4684</th>\n",
       "      <td>1</td>\n",
       "      <td>0.853364</td>\n",
       "      <td>0.834847</td>\n",
       "      <td>0.857103</td>\n",
       "      <td>0.814923</td>\n",
       "      <td>0.820279</td>\n",
       "      <td>0.843630</td>\n",
       "      <td>0.834913</td>\n",
       "      <td>0.866506</td>\n",
       "      <td>0.848302</td>\n",
       "      <td>0.841068</td>\n",
       "      <td>0.841494</td>\n",
       "      <td>1</td>\n",
       "    </tr>\n",
       "    <tr>\n",
       "      <th>1731</th>\n",
       "      <td>1</td>\n",
       "      <td>0.682669</td>\n",
       "      <td>0.679375</td>\n",
       "      <td>0.678795</td>\n",
       "      <td>0.656012</td>\n",
       "      <td>0.664683</td>\n",
       "      <td>0.680123</td>\n",
       "      <td>0.695668</td>\n",
       "      <td>0.699919</td>\n",
       "      <td>0.685484</td>\n",
       "      <td>0.683889</td>\n",
       "      <td>0.680662</td>\n",
       "      <td>1</td>\n",
       "    </tr>\n",
       "    <tr>\n",
       "      <th>4742</th>\n",
       "      <td>0</td>\n",
       "      <td>0.535665</td>\n",
       "      <td>0.514148</td>\n",
       "      <td>0.581165</td>\n",
       "      <td>0.506887</td>\n",
       "      <td>0.495448</td>\n",
       "      <td>0.536131</td>\n",
       "      <td>0.496213</td>\n",
       "      <td>0.515574</td>\n",
       "      <td>0.510016</td>\n",
       "      <td>0.497948</td>\n",
       "      <td>0.518920</td>\n",
       "      <td>1</td>\n",
       "    </tr>\n",
       "    <tr>\n",
       "      <th>4521</th>\n",
       "      <td>0</td>\n",
       "      <td>0.618364</td>\n",
       "      <td>0.582606</td>\n",
       "      <td>0.645839</td>\n",
       "      <td>0.582326</td>\n",
       "      <td>0.572311</td>\n",
       "      <td>0.604244</td>\n",
       "      <td>0.557317</td>\n",
       "      <td>0.613470</td>\n",
       "      <td>0.596398</td>\n",
       "      <td>0.580453</td>\n",
       "      <td>0.595333</td>\n",
       "      <td>1</td>\n",
       "    </tr>\n",
       "  </tbody>\n",
       "</table>\n",
       "</div>"
      ],
      "text/plain": [
       "      target   model_0   model_1   model_2   model_3   model_4   model_5  \\\n",
       "6252       0  0.307361  0.328110  0.291386  0.330929  0.333173  0.315174   \n",
       "4684       1  0.853364  0.834847  0.857103  0.814923  0.820279  0.843630   \n",
       "1731       1  0.682669  0.679375  0.678795  0.656012  0.664683  0.680123   \n",
       "4742       0  0.535665  0.514148  0.581165  0.506887  0.495448  0.536131   \n",
       "4521       0  0.618364  0.582606  0.645839  0.582326  0.572311  0.604244   \n",
       "\n",
       "       model_6   model_7   model_8   model_9  probability  prediction  \n",
       "6252  0.350887  0.312463  0.320279  0.327973     0.321773           0  \n",
       "4684  0.834913  0.866506  0.848302  0.841068     0.841494           1  \n",
       "1731  0.695668  0.699919  0.685484  0.683889     0.680662           1  \n",
       "4742  0.496213  0.515574  0.510016  0.497948     0.518920           1  \n",
       "4521  0.557317  0.613470  0.596398  0.580453     0.595333           1  "
      ]
     },
     "execution_count": 229,
     "metadata": {},
     "output_type": "execute_result"
    }
   ],
   "source": [
    "predictions = pd.DataFrame({'target': y_test})\n",
    "\n",
    "for name, estimator in estimators:\n",
    "    predictions[name] = estimator.predict_proba(X_test)[:, 1]\n",
    "\n",
    "predictions['probability'] = np.mean(predictions.drop('target', axis=1), axis=1)\n",
    "predictions['prediction'] = predictions.probability.map(lambda x: x >= 0.5).astype(int)\n",
    "predictions.head()"
   ]
  },
  {
   "cell_type": "code",
   "execution_count": 230,
   "metadata": {
    "collapsed": false
   },
   "outputs": [
    {
     "data": {
      "text/plain": [
       "array([[1221,  554],\n",
       "       [  77,  148]])"
      ]
     },
     "execution_count": 230,
     "metadata": {},
     "output_type": "execute_result"
    }
   ],
   "source": [
    "confusion_matrix(y_test, predictions.prediction, labels=[0, 1])"
   ]
  },
  {
   "cell_type": "code",
   "execution_count": 231,
   "metadata": {
    "collapsed": false
   },
   "outputs": [
    {
     "data": {
      "text/plain": [
       "0.67311424100156492"
      ]
     },
     "execution_count": 231,
     "metadata": {},
     "output_type": "execute_result"
    }
   ],
   "source": [
    "roc_auc_score(y_test, y_pred)"
   ]
  },
  {
   "cell_type": "markdown",
   "metadata": {},
   "source": [
    "Result of this exercise is equal to result from weight class in Logistic Regression above."
   ]
  },
  {
   "cell_type": "code",
   "execution_count": null,
   "metadata": {
    "collapsed": true
   },
   "outputs": [],
   "source": []
  }
 ],
 "metadata": {
  "kernelspec": {
   "display_name": "Python 2",
   "language": "python",
   "name": "python2"
  },
  "language_info": {
   "codemirror_mode": {
    "name": "ipython",
    "version": 2
   },
   "file_extension": ".py",
   "mimetype": "text/x-python",
   "name": "python",
   "nbconvert_exporter": "python",
   "pygments_lexer": "ipython2",
   "version": "2.7.10"
  }
 },
 "nbformat": 4,
 "nbformat_minor": 0
}
