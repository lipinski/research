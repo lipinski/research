{
 "cells": [
  {
   "cell_type": "code",
   "execution_count": 1,
   "metadata": {
    "collapsed": true
   },
   "outputs": [],
   "source": [
    "import numpy as np\n",
    "import pandas as pd\n",
    "import seaborn as sns\n",
    "import matplotlib.pyplot as plt\n",
    "\n",
    "from itertools import combinations\n",
    "from collections import Counter\n",
    "\n",
    "from sklearn import linear_model\n",
    "from sklearn import metrics\n",
    "from sklearn import preprocessing\n",
    "from scipy.stats import mode\n",
    "\n",
    "%matplotlib inline"
   ]
  },
  {
   "cell_type": "markdown",
   "metadata": {},
   "source": [
    "# Loading and preparing datasets"
   ]
  },
  {
   "cell_type": "code",
   "execution_count": 2,
   "metadata": {
    "collapsed": false
   },
   "outputs": [],
   "source": [
    "# Loading feature and label names\n",
    "feature_names = pd.read_csv('dataset/UCI HAR Dataset/features.txt', sep=' ', names=['name'])\n",
    "label_names = pd.read_csv('dataset/UCI HAR Dataset/activity_labels.txt', sep=' ', names=['name'])\n",
    "\n",
    "# Loading training dataset\n",
    "X_train = pd.read_table('dataset/UCI HAR Dataset/train/X_train.txt', sep=' ', skipinitialspace=True, names=feature_names['name'])\n",
    "y_train = pd.read_table('dataset/UCI HAR Dataset/train/y_train.txt', sep=' ', names=['name'])['name']\n",
    "\n",
    "# Loading testing dataset\n",
    "X_test = pd.read_table('dataset/UCI HAR Dataset/test/X_test.txt', sep=' ', skipinitialspace=True, names=feature_names['name'])\n",
    "y_test = pd.read_table('dataset/UCI HAR Dataset/test/y_test.txt', sep=' ', names=['name'])['name']"
   ]
  },
  {
   "cell_type": "markdown",
   "metadata": {},
   "source": [
    "Checking number of observation and features."
   ]
  },
  {
   "cell_type": "code",
   "execution_count": 3,
   "metadata": {
    "collapsed": false
   },
   "outputs": [
    {
     "data": {
      "text/plain": [
       "(7352, 561)"
      ]
     },
     "execution_count": 3,
     "metadata": {},
     "output_type": "execute_result"
    }
   ],
   "source": [
    "X_train.shape"
   ]
  },
  {
   "cell_type": "markdown",
   "metadata": {},
   "source": [
    "Checking number of observations in each class. "
   ]
  },
  {
   "cell_type": "code",
   "execution_count": 4,
   "metadata": {
    "collapsed": false,
    "scrolled": false
   },
   "outputs": [
    {
     "data": {
      "text/plain": [
       "<matplotlib.axes._subplots.AxesSubplot at 0x7fce267f0190>"
      ]
     },
     "execution_count": 4,
     "metadata": {},
     "output_type": "execute_result"
    },
    {
     "data": {
      "image/png": "[encoded data removed]",
      "text/plain": [
       "<matplotlib.figure.Figure at 0x7fce267e5a90>"
      ]
     },
     "metadata": {},
     "output_type": "display_data"
    }
   ],
   "source": [
    "y_train.value_counts().sort_index().plot(kind='bar')"
   ]
  },
  {
   "cell_type": "markdown",
   "metadata": {},
   "source": [
    "# Hashing function for Dimensionality Reduction"
   ]
  },
  {
   "cell_type": "code",
   "execution_count": 5,
   "metadata": {
    "collapsed": false
   },
   "outputs": [],
   "source": [
    "# Setting seed\n",
    "np.random.seed(42)\n",
    "\n",
    "# Creating random vectors\n",
    "number_of_vectors = 300\n",
    "random_vectors = np.random.randn(X_train.shape[1], number_of_vectors)\n",
    "\n",
    "def hashing(x):\n",
    "    return x.dot(random_vectors)\n",
    "\n",
    "X_train_transform = hashing(np.array(X_train))"
   ]
  },
  {
   "cell_type": "markdown",
   "metadata": {},
   "source": [
    "## Learning Logistic Regression without Dimensionality Reduction"
   ]
  },
  {
   "cell_type": "code",
   "execution_count": 6,
   "metadata": {
    "collapsed": false
   },
   "outputs": [
    {
     "name": "stdout",
     "output_type": "stream",
     "text": [
      "training f1 score: 0.990750816104\n",
      "testing f1 score: 0.961316593146\n"
     ]
    }
   ],
   "source": [
    "lr = linear_model.LogisticRegression().fit(X_train, y_train)\n",
    "\n",
    "training_baseline = metrics.f1_score(y_train, lr.predict(X_train), average='micro')\n",
    "testing_baseline = metrics.f1_score(y_test, lr.predict(X_test), average='micro')\n",
    "\n",
    "print 'training f1 score:', training_baseline\n",
    "print 'testing f1 score:', testing_baseline"
   ]
  },
  {
   "cell_type": "markdown",
   "metadata": {},
   "source": [
    "## Checking Logistic Regression with hashing function"
   ]
  },
  {
   "cell_type": "markdown",
   "metadata": {},
   "source": [
    "It is not hashing function, just a name."
   ]
  },
  {
   "cell_type": "code",
   "execution_count": 7,
   "metadata": {
    "collapsed": false,
    "scrolled": true
   },
   "outputs": [
    {
     "name": "stdout",
     "output_type": "stream",
     "text": [
      "training f1 score: 0.997551686616\n",
      "testing f1 score: 0.959959280624\n"
     ]
    }
   ],
   "source": [
    "lr = linear_model.LogisticRegression().fit(hashing(X_train), y_train)\n",
    "\n",
    "print 'training f1 score:', metrics.f1_score(y_train, lr.predict(hashing(X_train)), average='micro')\n",
    "print 'testing f1 score:', metrics.f1_score(y_test, lr.predict(hashing(X_test)), average='micro')"
   ]
  },
  {
   "cell_type": "markdown",
   "metadata": {},
   "source": [
    "## Searching for good number of vectors"
   ]
  },
  {
   "cell_type": "markdown",
   "metadata": {},
   "source": [
    "We are looking for the best minimal number of vectors for dimensionality reduction."
   ]
  },
  {
   "cell_type": "code",
   "execution_count": 8,
   "metadata": {
    "collapsed": false
   },
   "outputs": [],
   "source": [
    "training_results = {}\n",
    "testing_results = {}\n",
    "\n",
    "for number_of_vectors in range(10, X_train.shape[1]+1, 50):\n",
    "    np.random.seed(42)\n",
    "    number_of_vectors = number_of_vectors\n",
    "    random_vectors = np.random.randn(X_train.shape[1], number_of_vectors)   \n",
    "    \n",
    "    lr = linear_model.LogisticRegression().fit(hashing(X_train), y_train)\n",
    "    \n",
    "    f1_training = metrics.f1_score(y_train, lr.predict(hashing(X_train)), average='micro')\n",
    "    f1_testing = metrics.f1_score(y_test, lr.predict(hashing(X_test)), average='micro')\n",
    "    \n",
    "    training_results[number_of_vectors] = f1_training\n",
    "    testing_results[number_of_vectors] = f1_testing"
   ]
  },
  {
   "cell_type": "code",
   "execution_count": 9,
   "metadata": {
    "collapsed": false
   },
   "outputs": [
    {
     "data": {
      "text/plain": [
       "<matplotlib.lines.Line2D at 0x7fce5f7c38d0>"
      ]
     },
     "execution_count": 9,
     "metadata": {},
     "output_type": "execute_result"
    },
    {
     "data": {
      "image/png": "[encoded data removed]",
      "text/plain": [
       "<matplotlib.figure.Figure at 0x7fce26849790>"
      ]
     },
     "metadata": {},
     "output_type": "display_data"
    }
   ],
   "source": [
    "training_df = pd.DataFrame(training_results.items(), columns=['number_of_vectors', 'training_f1'])\n",
    "testing_df = pd.DataFrame(testing_results.items(), columns=['number_of_vectors', 'testing_f1'])\n",
    "result_df = training_df.merge(testing_df, on='number_of_vectors').sort_values('number_of_vectors')\n",
    "result_df = result_df.set_index('number_of_vectors')\n",
    "\n",
    "result_df[2:].plot()\n",
    "plt.axhline(training_baseline, color='red', lw=1, label='training base line')\n",
    "plt.axhline(testing_baseline, color='red', lw=1, label='testing base line')"
   ]
  },
  {
   "cell_type": "markdown",
   "metadata": {},
   "source": [
    "## Binarizing feature vectors"
   ]
  },
  {
   "cell_type": "code",
   "execution_count": 10,
   "metadata": {
    "collapsed": false
   },
   "outputs": [
    {
     "name": "stdout",
     "output_type": "stream",
     "text": [
      "training f1 score: 0.994559303591\n",
      "testing f1 score: 0.96674584323\n"
     ]
    }
   ],
   "source": [
    "np.random.seed(42)\n",
    "\n",
    "number_of_vectors = 550\n",
    "random_vectors = np.random.randn(X_train.shape[1], number_of_vectors)\n",
    "\n",
    "X_train_transform = preprocessing.scale(hashing(X_train))\n",
    "X_test_transform = preprocessing.scale(hashing(X_test))\n",
    "\n",
    "lr = linear_model.LogisticRegression().fit(X_train_transform, y_train)\n",
    "\n",
    "training_baseline = metrics.f1_score(y_train, lr.predict(X_train_transform), average='micro')\n",
    "testing_baseline = metrics.f1_score(y_test, lr.predict(X_test_transform), average='micro')\n",
    "\n",
    "print 'training f1 score:', training_baseline\n",
    "print 'testing f1 score:', testing_baseline"
   ]
  },
  {
   "cell_type": "markdown",
   "metadata": {},
   "source": [
    "# Locality-Sensitive Hashing Implementation"
   ]
  },
  {
   "cell_type": "code",
   "execution_count": 13,
   "metadata": {
    "collapsed": false
   },
   "outputs": [],
   "source": [
    "class LSH(object):\n",
    "    def __init__(self, number_of_vectors, seed=None, search_radius=2):\n",
    "        self.number_of_vectors = number_of_vectors\n",
    "        self.seed = seed\n",
    "        self.search_radius = search_radius\n",
    "        self._table = None\n",
    "        self._random_vectors = None        \n",
    "        self._training_set = None\n",
    "        self._training_labels = None\n",
    "        \n",
    "    def __repr__(self):\n",
    "        return 'LSH(number_of_vectors={}, seed={})'.format(self.number_of_vectors, self.seed)\n",
    "        \n",
    "    def fit(self, X, y):\n",
    "        self._training_set = X\n",
    "        self._training_labels = y\n",
    "        dim = X.shape[1]\n",
    "        \n",
    "        if self.seed:\n",
    "            np.random.seed(self.seed)\n",
    "        \n",
    "        self._random_vectors = np.random.randn(dim, self.number_of_vectors)\n",
    "        powers = 1 << np.arange(self.number_of_vectors - 1, -1, -1)\n",
    "        \n",
    "        self._table = {}\n",
    "        \n",
    "        # Partition data points into bins\n",
    "        bin_index_bits = X.dot(self._random_vectors) >= 0\n",
    "        \n",
    "        # Encode bin  index bits into integers\n",
    "        bin_indices = bin_index_bits.dot(powers)\n",
    "        \n",
    "        # Update table so table[i] is the list of document ids with bin index equal to i\n",
    "        for data_index, bin_index in enumerate(bin_indices):\n",
    "            \n",
    "            # If not list exists for this bin, assign the bin an empty list\n",
    "            if bin_index not in self._table:\n",
    "                self._table[bin_index] = []\n",
    "            \n",
    "            # Fetch the list of document ids associated with the bin and add the document id to the end\n",
    "            self._table[bin_index].append(data_index)\n",
    "            \n",
    "        return self\n",
    "    \n",
    "    def search_nearby_bins(self, query):\n",
    "\n",
    "        query = query.dot(self._random_vectors) >= 0\n",
    "        num_vector = len(query)\n",
    "        powers = 1 << np.arange(self.number_of_vectors -1, -1, -1)\n",
    "        \n",
    "        candidate_set = set()\n",
    "        \n",
    "        for different_bits in combinations(range(self.number_of_vectors), self.search_radius):\n",
    "            alternate_bits = np.copy(query)\n",
    "            \n",
    "            for i in different_bits:\n",
    "                alternate_bits[i] = not query[i]\n",
    "                \n",
    "            nearby_bin = alternate_bits.dot(powers)\n",
    "\n",
    "            if nearby_bin in self._table:\n",
    "                candidate_set.update(self._table[nearby_bin])\n",
    "        \n",
    "        return candidate_set\n",
    "    \n",
    "    def predict(self, X):\n",
    "        candidates = X.apply(lambda x: [self._training_labels[i] for i in self.search_nearby_bins(x)], axis=1)\n",
    "        \n",
    "        def get_mode(x):\n",
    "            try:\n",
    "                return mode(x, nan_policy='omit').mode[0]\n",
    "            except:\n",
    "                return np.nan\n",
    "        \n",
    "        return np.array(candidates.map(get_mode))\n",
    "        "
   ]
  },
  {
   "cell_type": "markdown",
   "metadata": {},
   "source": [
    "## Using LSH for classification problem"
   ]
  },
  {
   "cell_type": "code",
   "execution_count": 14,
   "metadata": {
    "collapsed": false
   },
   "outputs": [
    {
     "data": {
      "text/plain": [
       "LSH(number_of_vectors=30, seed=42)"
      ]
     },
     "execution_count": 14,
     "metadata": {},
     "output_type": "execute_result"
    }
   ],
   "source": [
    "lsh = LSH(number_of_vectors=30, seed=42, search_radius=1)\n",
    "lsh.fit(X_train, y_train)"
   ]
  },
  {
   "cell_type": "code",
   "execution_count": 33,
   "metadata": {
    "collapsed": false
   },
   "outputs": [
    {
     "data": {
      "text/plain": [
       "array([5, 5, 5, 5, 5, 5, 5, 5, 5, 5, 5, 6, 6, 5, 5, 5, 5, 5, 5, 5, 5, 5, 5,\n",
       "       5, 5, 5, 5, 5, 5, 5, 5, 5, 4, 5, 5, 5, 6, 5, 5, 5, 5, 5, 5, 5, 4, 5,\n",
       "       5, 6, 5, 5, 5, 5, 6, 6, 6, 5, 6, 6, 6, 6, 6, 6, 6, 6, 6, 6, 6, 6, 5,\n",
       "       6, 6, 6, 6, 6, 6, 6, 6, 6, 6, 1, 1, 1, 1, 1, 1, 1, 1, 1, 1, 1, 1, 1,\n",
       "       1, 1, 1, 1, 1, 1, 1, 1])"
      ]
     },
     "execution_count": 33,
     "metadata": {},
     "output_type": "execute_result"
    }
   ],
   "source": [
    "y_pred = lsh.predict(X_test.iloc[:100])\n",
    "y_pred"
   ]
  },
  {
   "cell_type": "code",
   "execution_count": 34,
   "metadata": {
    "collapsed": false
   },
   "outputs": [
    {
     "data": {
      "text/plain": [
       "array([5, 5, 5, 5, 5, 5, 5, 5, 5, 5, 5, 5, 5, 5, 5, 5, 5, 5, 5, 5, 5, 5, 5,\n",
       "       5, 5, 5, 5, 5, 5, 5, 5, 4, 4, 4, 4, 4, 4, 4, 4, 4, 4, 4, 4, 4, 4, 4,\n",
       "       4, 4, 4, 4, 4, 4, 4, 4, 4, 6, 6, 6, 6, 6, 6, 6, 6, 6, 6, 6, 6, 6, 6,\n",
       "       6, 6, 6, 6, 6, 6, 6, 6, 6, 6, 1, 1, 1, 1, 1, 1, 1, 1, 1, 1, 1, 1, 1,\n",
       "       1, 1, 1, 1, 1, 1, 1, 1])"
      ]
     },
     "execution_count": 34,
     "metadata": {},
     "output_type": "execute_result"
    }
   ],
   "source": [
    "y_true = np.array(y_test.iloc[:100])\n",
    "y_true"
   ]
  },
  {
   "cell_type": "code",
   "execution_count": 35,
   "metadata": {
    "collapsed": false
   },
   "outputs": [
    {
     "data": {
      "text/plain": [
       "0.73999999999999999"
      ]
     },
     "execution_count": 35,
     "metadata": {},
     "output_type": "execute_result"
    }
   ],
   "source": [
    "np.sum(np.equal(y_pred, y_true))/ 100.0"
   ]
  },
  {
   "cell_type": "code",
   "execution_count": 28,
   "metadata": {
    "collapsed": true
   },
   "outputs": [],
   "source": [
    "# To do: search k neighbours"
   ]
  }
 ],
 "metadata": {
  "kernelspec": {
   "display_name": "Python 2",
   "language": "python",
   "name": "python2"
  },
  "language_info": {
   "codemirror_mode": {
    "name": "ipython",
    "version": 2
   },
   "file_extension": ".py",
   "mimetype": "text/x-python",
   "name": "python",
   "nbconvert_exporter": "python",
   "pygments_lexer": "ipython2",
   "version": "2.7.12"
  }
 },
 "nbformat": 4,
 "nbformat_minor": 1
}
