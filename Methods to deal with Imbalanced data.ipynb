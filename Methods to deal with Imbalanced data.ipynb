{
 "cells": [
  {
   "cell_type": "code",
   "execution_count": 1,
   "metadata": {
    "collapsed": true
   },
   "outputs": [],
   "source": [
    "import pandas as pd\n",
    "import numpy as np\n",
    "import seaborn as sns\n",
    "\n",
    "from sklearn.cross_validation import train_test_split\n",
    "from sklearn.linear_model import LogisticRegression\n",
    "from sklearn.metrics import confusion_matrix, roc_auc_score\n",
    "from sklearn.datasets import make_classification\n",
    "\n",
    "%matplotlib inline"
   ]
  },
  {
   "cell_type": "markdown",
   "metadata": {},
   "source": [
    "# Prepare dataset"
   ]
  },
  {
   "cell_type": "markdown",
   "metadata": {},
   "source": [
    "We generate same toy data set for learning."
   ]
  },
  {
   "cell_type": "code",
   "execution_count": 2,
   "metadata": {
    "collapsed": false
   },
   "outputs": [
    {
     "data": {
      "text/html": [
       "<div>\n",
       "<table border=\"1\" class=\"dataframe\">\n",
       "  <thead>\n",
       "    <tr style=\"text-align: right;\">\n",
       "      <th></th>\n",
       "      <th>feature1</th>\n",
       "      <th>feature2</th>\n",
       "      <th>feature3</th>\n",
       "      <th>target</th>\n",
       "    </tr>\n",
       "  </thead>\n",
       "  <tbody>\n",
       "    <tr>\n",
       "      <th>0</th>\n",
       "      <td>-0.603517</td>\n",
       "      <td>0.356539</td>\n",
       "      <td>1.498061</td>\n",
       "      <td>0</td>\n",
       "    </tr>\n",
       "    <tr>\n",
       "      <th>1</th>\n",
       "      <td>-1.495687</td>\n",
       "      <td>0.795037</td>\n",
       "      <td>-0.732101</td>\n",
       "      <td>0</td>\n",
       "    </tr>\n",
       "    <tr>\n",
       "      <th>2</th>\n",
       "      <td>-0.095506</td>\n",
       "      <td>0.487563</td>\n",
       "      <td>0.446223</td>\n",
       "      <td>0</td>\n",
       "    </tr>\n",
       "    <tr>\n",
       "      <th>3</th>\n",
       "      <td>-0.140712</td>\n",
       "      <td>2.260213</td>\n",
       "      <td>-1.507246</td>\n",
       "      <td>0</td>\n",
       "    </tr>\n",
       "    <tr>\n",
       "      <th>4</th>\n",
       "      <td>-0.739288</td>\n",
       "      <td>0.971696</td>\n",
       "      <td>2.929825</td>\n",
       "      <td>0</td>\n",
       "    </tr>\n",
       "  </tbody>\n",
       "</table>\n",
       "</div>"
      ],
      "text/plain": [
       "   feature1  feature2  feature3  target\n",
       "0 -0.603517  0.356539  1.498061       0\n",
       "1 -1.495687  0.795037 -0.732101       0\n",
       "2 -0.095506  0.487563  0.446223       0\n",
       "3 -0.140712  2.260213 -1.507246       0\n",
       "4 -0.739288  0.971696  2.929825       0"
      ]
     },
     "execution_count": 2,
     "metadata": {},
     "output_type": "execute_result"
    }
   ],
   "source": [
    "dataset = make_classification(\n",
    "    n_samples=10000, n_features=3, n_informative=3, n_redundant=0, weights=[0.9, 0.1], random_state=2016\n",
    ")\n",
    "\n",
    "df = pd.DataFrame({\n",
    "        'feature1': dataset[0][:, 0], \n",
    "        'feature2': dataset[0][:, 1], \n",
    "        'feature3': dataset[0][:, 2],\n",
    "        'target': dataset[1]\n",
    "})\n",
    "\n",
    "df.head()"
   ]
  },
  {
   "cell_type": "markdown",
   "metadata": {},
   "source": [
    "We see imbalanced class. For our purpose, we select online two class 6 and 7."
   ]
  },
  {
   "cell_type": "code",
   "execution_count": 3,
   "metadata": {
    "collapsed": false
   },
   "outputs": [
    {
     "data": {
      "text/plain": [
       "<matplotlib.axes._subplots.AxesSubplot at 0x7fd657107790>"
      ]
     },
     "execution_count": 3,
     "metadata": {},
     "output_type": "execute_result"
    },
    {
     "data": {
      "image/png": "[encoded data removed]",
      "text/plain": [
       "<matplotlib.figure.Figure at 0x7fd68c5e15d0>"
      ]
     },
     "metadata": {},
     "output_type": "display_data"
    }
   ],
   "source": [
    "df.target.value_counts().plot(kind='bar')"
   ]
  },
  {
   "cell_type": "code",
   "execution_count": 4,
   "metadata": {
    "collapsed": false
   },
   "outputs": [
    {
     "data": {
      "text/plain": [
       "0    8962\n",
       "1    1038\n",
       "Name: target, dtype: int64"
      ]
     },
     "execution_count": 4,
     "metadata": {},
     "output_type": "execute_result"
    }
   ],
   "source": [
    "df.target.value_counts()"
   ]
  },
  {
   "cell_type": "markdown",
   "metadata": {},
   "source": [
    "## Modeling without dealing with imbalanced data"
   ]
  },
  {
   "cell_type": "code",
   "execution_count": 5,
   "metadata": {
    "collapsed": true
   },
   "outputs": [],
   "source": [
    "X_train, X_test, y_train, y_test = train_test_split(\n",
    "    df.drop('target', axis=1), df.target, train_size=0.8, random_state=42\n",
    ")"
   ]
  },
  {
   "cell_type": "code",
   "execution_count": 6,
   "metadata": {
    "collapsed": false
   },
   "outputs": [
    {
     "data": {
      "text/plain": [
       "LogisticRegression(C=1.0, class_weight=None, dual=False, fit_intercept=True,\n",
       "          intercept_scaling=1, max_iter=100, multi_class='ovr', n_jobs=1,\n",
       "          penalty='l2', random_state=42, solver='liblinear', tol=0.0001,\n",
       "          verbose=0, warm_start=False)"
      ]
     },
     "execution_count": 6,
     "metadata": {},
     "output_type": "execute_result"
    }
   ],
   "source": [
    "model = LogisticRegression(random_state=42)\n",
    "model.fit(X_train, y_train)"
   ]
  },
  {
   "cell_type": "code",
   "execution_count": 7,
   "metadata": {
    "collapsed": false
   },
   "outputs": [
    {
     "data": {
      "text/plain": [
       "array([[1763,   39],\n",
       "       [  84,  114]])"
      ]
     },
     "execution_count": 7,
     "metadata": {},
     "output_type": "execute_result"
    }
   ],
   "source": [
    "y_pred = model.predict(X_test)\n",
    "confusion_matrix(y_test, y_pred, labels=[0, 1])"
   ]
  },
  {
   "cell_type": "code",
   "execution_count": 8,
   "metadata": {
    "collapsed": false
   },
   "outputs": [
    {
     "data": {
      "text/plain": [
       "0.77705747822284998"
      ]
     },
     "execution_count": 8,
     "metadata": {},
     "output_type": "execute_result"
    }
   ],
   "source": [
    "roc_auc_score(y_test, y_pred)"
   ]
  },
  {
   "cell_type": "markdown",
   "metadata": {},
   "source": [
    "We can use class_weight parameter, but we want to learn new method for imbalanced data."
   ]
  },
  {
   "cell_type": "markdown",
   "metadata": {},
   "source": [
    "## Class weight in Scikit learn"
   ]
  },
  {
   "cell_type": "code",
   "execution_count": 9,
   "metadata": {
    "collapsed": false
   },
   "outputs": [
    {
     "data": {
      "text/plain": [
       "array([[1609,  193],\n",
       "       [  32,  166]])"
      ]
     },
     "execution_count": 9,
     "metadata": {},
     "output_type": "execute_result"
    }
   ],
   "source": [
    "model = LogisticRegression(random_state=42, class_weight='balanced')\n",
    "model.fit(X_train, y_train)\n",
    "\n",
    "y_pred = model.predict(X_test)\n",
    "confusion_matrix(y_test, y_pred, labels=[0, 1])"
   ]
  },
  {
   "cell_type": "code",
   "execution_count": 10,
   "metadata": {
    "collapsed": false
   },
   "outputs": [
    {
     "data": {
      "text/plain": [
       "0.86564030986894458"
      ]
     },
     "execution_count": 10,
     "metadata": {},
     "output_type": "execute_result"
    }
   ],
   "source": [
    "roc_auc_score(y_test, y_pred)"
   ]
  },
  {
   "cell_type": "markdown",
   "metadata": {},
   "source": [
    "### How it works"
   ]
  },
  {
   "cell_type": "markdown",
   "metadata": {},
   "source": [
    "It is inversely proportional to the number of samples in the class."
   ]
  },
  {
   "cell_type": "markdown",
   "metadata": {},
   "source": [
    "You can compute old way."
   ]
  },
  {
   "cell_type": "code",
   "execution_count": 11,
   "metadata": {
    "collapsed": false
   },
   "outputs": [
    {
     "data": {
      "text/plain": [
       "[0, 1]"
      ]
     },
     "execution_count": 11,
     "metadata": {},
     "output_type": "execute_result"
    }
   ],
   "source": [
    "classes = y_train.unique().tolist()\n",
    "classes"
   ]
  },
  {
   "cell_type": "code",
   "execution_count": 12,
   "metadata": {
    "collapsed": false
   },
   "outputs": [
    {
     "data": {
      "text/plain": [
       "array([7160,  840])"
      ]
     },
     "execution_count": 12,
     "metadata": {},
     "output_type": "execute_result"
    }
   ],
   "source": [
    "bincounts = np.bincount(y_train)\n",
    "bincounts"
   ]
  },
  {
   "cell_type": "code",
   "execution_count": 13,
   "metadata": {
    "collapsed": false
   },
   "outputs": [
    {
     "data": {
      "text/plain": [
       "array([ 0.00013966,  0.00119048])"
      ]
     },
     "execution_count": 13,
     "metadata": {},
     "output_type": "execute_result"
    }
   ],
   "source": [
    "recip_freq = 1.0 / bincounts\n",
    "recip_freq"
   ]
  },
  {
   "cell_type": "code",
   "execution_count": 14,
   "metadata": {
    "collapsed": false
   },
   "outputs": [
    {
     "data": {
      "text/plain": [
       "array([ 0.21,  1.79])"
      ]
     },
     "execution_count": 14,
     "metadata": {},
     "output_type": "execute_result"
    }
   ],
   "source": [
    "weights = recip_freq / np.mean(recip_freq)\n",
    "weights"
   ]
  },
  {
   "cell_type": "markdown",
   "metadata": {},
   "source": [
    "Or new way. Based on Logistic Regression in Rare Events Data, King, Zen, 2001."
   ]
  },
  {
   "cell_type": "code",
   "execution_count": 15,
   "metadata": {
    "collapsed": false
   },
   "outputs": [
    {
     "data": {
      "text/plain": [
       "array([ 0.55865922,  4.76190476])"
      ]
     },
     "execution_count": 15,
     "metadata": {},
     "output_type": "execute_result"
    }
   ],
   "source": [
    "weights = len(y_train) / (len(classes) * np.bincount(y_train).astype(float))\n",
    "weights"
   ]
  },
  {
   "cell_type": "markdown",
   "metadata": {},
   "source": [
    "Basically, it changes regularized parameter of C.\n",
    "\n",
    "weights[i] * C"
   ]
  },
  {
   "cell_type": "markdown",
   "metadata": {},
   "source": [
    "# Undersampling"
   ]
  },
  {
   "cell_type": "markdown",
   "metadata": {},
   "source": [
    "We distinguish two undersampling methods: informative and random. Informative undersampling are Easy Ensemble and Balance Cascade. In random undersampling we remove observations from majority class."
   ]
  },
  {
   "cell_type": "markdown",
   "metadata": {},
   "source": [
    "## Random sampling"
   ]
  },
  {
   "cell_type": "markdown",
   "metadata": {},
   "source": [
    "We get randomly subset from majority class."
   ]
  },
  {
   "cell_type": "code",
   "execution_count": 16,
   "metadata": {
    "collapsed": false
   },
   "outputs": [
    {
     "data": {
      "text/plain": [
       "array([[1610,  192],\n",
       "       [  31,  167]])"
      ]
     },
     "execution_count": 16,
     "metadata": {},
     "output_type": "execute_result"
    }
   ],
   "source": [
    "idx = y_train[y_train == 1].index\n",
    "X_pos = X_train.ix[idx]\n",
    "y_pos = y_train.ix[idx]\n",
    "\n",
    "idx = y_train[y_train == 0].sample(X_pos.shape[0], random_state=42, replace=True).index\n",
    "X_train_sample, y_train_sample = X_pos.append(X_train.ix[idx]), y_pos.append(y_train.ix[idx])\n",
    "\n",
    "model = LogisticRegression()\n",
    "model.fit(X_train_sample, y_train_sample)\n",
    "\n",
    "y_pred = model.predict(X_test)\n",
    "confusion_matrix(y_test, y_pred, labels=[0, 1])"
   ]
  },
  {
   "cell_type": "code",
   "execution_count": 17,
   "metadata": {
    "collapsed": false
   },
   "outputs": [
    {
     "data": {
      "text/plain": [
       "0.86844303187255456"
      ]
     },
     "execution_count": 17,
     "metadata": {},
     "output_type": "execute_result"
    }
   ],
   "source": [
    "roc_auc_score(y_test, y_pred)"
   ]
  },
  {
   "cell_type": "markdown",
   "metadata": {},
   "source": [
    "## Easy Ensemble"
   ]
  },
  {
   "cell_type": "markdown",
   "metadata": {},
   "source": [
    "We need to get several subsets of independend sample. It means, that you need to take sample with replacement from majority class."
   ]
  },
  {
   "cell_type": "code",
   "execution_count": 18,
   "metadata": {
    "collapsed": false,
    "scrolled": false
   },
   "outputs": [
    {
     "data": {
      "text/plain": [
       "(1038, 4)"
      ]
     },
     "execution_count": 18,
     "metadata": {},
     "output_type": "execute_result"
    }
   ],
   "source": [
    "minority_df = df[df.target == 1]\n",
    "majority_df_sample = df[df.target == 0].sample(minority_df.shape[0], random_state=42, replace=True)\n",
    "majority_df_sample.shape"
   ]
  },
  {
   "cell_type": "markdown",
   "metadata": {},
   "source": [
    "Now we can learn some classifiers."
   ]
  },
  {
   "cell_type": "code",
   "execution_count": 19,
   "metadata": {
    "collapsed": false
   },
   "outputs": [],
   "source": [
    "estimators = []\n",
    "idx = y_train[y_train == 1].index\n",
    "X_pos = X_train.ix[idx]\n",
    "y_pos = y_train.ix[idx]\n",
    "\n",
    "for _ in range(10):\n",
    "    idx = y_train[y_train == 0].sample(X_pos.shape[0], random_state=_, replace=True).index\n",
    "    \n",
    "    model = LogisticRegression() \n",
    "    model.fit(X_pos.append(X_train.ix[idx]), y_pos.append(y_train.ix[idx]))\n",
    "    \n",
    "    estimators.append(('model_{}'.format(_), model))"
   ]
  },
  {
   "cell_type": "markdown",
   "metadata": {},
   "source": [
    "We predict probabilities."
   ]
  },
  {
   "cell_type": "code",
   "execution_count": 20,
   "metadata": {
    "collapsed": false
   },
   "outputs": [
    {
     "data": {
      "text/html": [
       "<div>\n",
       "<table border=\"1\" class=\"dataframe\">\n",
       "  <thead>\n",
       "    <tr style=\"text-align: right;\">\n",
       "      <th></th>\n",
       "      <th>target</th>\n",
       "      <th>model_0</th>\n",
       "      <th>model_1</th>\n",
       "      <th>model_2</th>\n",
       "      <th>model_3</th>\n",
       "      <th>model_4</th>\n",
       "      <th>model_5</th>\n",
       "      <th>model_6</th>\n",
       "      <th>model_7</th>\n",
       "      <th>model_8</th>\n",
       "      <th>model_9</th>\n",
       "      <th>probability</th>\n",
       "      <th>prediction</th>\n",
       "    </tr>\n",
       "  </thead>\n",
       "  <tbody>\n",
       "    <tr>\n",
       "      <th>6252</th>\n",
       "      <td>0</td>\n",
       "      <td>0.063087</td>\n",
       "      <td>0.060935</td>\n",
       "      <td>0.066279</td>\n",
       "      <td>0.061937</td>\n",
       "      <td>0.062220</td>\n",
       "      <td>0.049114</td>\n",
       "      <td>0.069966</td>\n",
       "      <td>0.055956</td>\n",
       "      <td>0.063711</td>\n",
       "      <td>0.071944</td>\n",
       "      <td>0.062515</td>\n",
       "      <td>0</td>\n",
       "    </tr>\n",
       "    <tr>\n",
       "      <th>4684</th>\n",
       "      <td>0</td>\n",
       "      <td>0.097122</td>\n",
       "      <td>0.082928</td>\n",
       "      <td>0.075329</td>\n",
       "      <td>0.080534</td>\n",
       "      <td>0.096940</td>\n",
       "      <td>0.102710</td>\n",
       "      <td>0.089321</td>\n",
       "      <td>0.078630</td>\n",
       "      <td>0.091222</td>\n",
       "      <td>0.082149</td>\n",
       "      <td>0.087688</td>\n",
       "      <td>0</td>\n",
       "    </tr>\n",
       "    <tr>\n",
       "      <th>1731</th>\n",
       "      <td>0</td>\n",
       "      <td>0.098516</td>\n",
       "      <td>0.096614</td>\n",
       "      <td>0.103774</td>\n",
       "      <td>0.098478</td>\n",
       "      <td>0.100060</td>\n",
       "      <td>0.083587</td>\n",
       "      <td>0.106333</td>\n",
       "      <td>0.089473</td>\n",
       "      <td>0.100943</td>\n",
       "      <td>0.111439</td>\n",
       "      <td>0.098922</td>\n",
       "      <td>0</td>\n",
       "    </tr>\n",
       "    <tr>\n",
       "      <th>4742</th>\n",
       "      <td>1</td>\n",
       "      <td>0.975798</td>\n",
       "      <td>0.982201</td>\n",
       "      <td>0.972058</td>\n",
       "      <td>0.975798</td>\n",
       "      <td>0.972422</td>\n",
       "      <td>0.987252</td>\n",
       "      <td>0.975734</td>\n",
       "      <td>0.982312</td>\n",
       "      <td>0.969625</td>\n",
       "      <td>0.973321</td>\n",
       "      <td>0.976652</td>\n",
       "      <td>1</td>\n",
       "    </tr>\n",
       "    <tr>\n",
       "      <th>4521</th>\n",
       "      <td>0</td>\n",
       "      <td>0.056774</td>\n",
       "      <td>0.051899</td>\n",
       "      <td>0.054572</td>\n",
       "      <td>0.052749</td>\n",
       "      <td>0.056596</td>\n",
       "      <td>0.047034</td>\n",
       "      <td>0.059536</td>\n",
       "      <td>0.047905</td>\n",
       "      <td>0.056643</td>\n",
       "      <td>0.059479</td>\n",
       "      <td>0.054319</td>\n",
       "      <td>0</td>\n",
       "    </tr>\n",
       "  </tbody>\n",
       "</table>\n",
       "</div>"
      ],
      "text/plain": [
       "      target   model_0   model_1   model_2   model_3   model_4   model_5  \\\n",
       "6252       0  0.063087  0.060935  0.066279  0.061937  0.062220  0.049114   \n",
       "4684       0  0.097122  0.082928  0.075329  0.080534  0.096940  0.102710   \n",
       "1731       0  0.098516  0.096614  0.103774  0.098478  0.100060  0.083587   \n",
       "4742       1  0.975798  0.982201  0.972058  0.975798  0.972422  0.987252   \n",
       "4521       0  0.056774  0.051899  0.054572  0.052749  0.056596  0.047034   \n",
       "\n",
       "       model_6   model_7   model_8   model_9  probability  prediction  \n",
       "6252  0.069966  0.055956  0.063711  0.071944     0.062515           0  \n",
       "4684  0.089321  0.078630  0.091222  0.082149     0.087688           0  \n",
       "1731  0.106333  0.089473  0.100943  0.111439     0.098922           0  \n",
       "4742  0.975734  0.982312  0.969625  0.973321     0.976652           1  \n",
       "4521  0.059536  0.047905  0.056643  0.059479     0.054319           0  "
      ]
     },
     "execution_count": 20,
     "metadata": {},
     "output_type": "execute_result"
    }
   ],
   "source": [
    "def predict(X_test, y_test, estimators):\n",
    "    predictions = pd.DataFrame({'target': y_test})\n",
    "\n",
    "    for name, estimator in estimators:\n",
    "        predictions[name] = estimator.predict_proba(X_test)[:, 1]\n",
    "\n",
    "    predictions['probability'] = np.mean(predictions.drop('target', axis=1), axis=1)\n",
    "    predictions['prediction'] = predictions.probability.map(lambda x: x >= 0.5).astype(int)\n",
    "    \n",
    "    return predictions\n",
    "\n",
    "predictions = predict(X_test, y_test, estimators)\n",
    "predictions.head()"
   ]
  },
  {
   "cell_type": "code",
   "execution_count": 21,
   "metadata": {
    "collapsed": false
   },
   "outputs": [
    {
     "data": {
      "text/plain": [
       "array([[1608,  194],\n",
       "       [  32,  166]])"
      ]
     },
     "execution_count": 21,
     "metadata": {},
     "output_type": "execute_result"
    }
   ],
   "source": [
    "confusion_matrix(y_test, predictions.prediction, labels=[0, 1])"
   ]
  },
  {
   "cell_type": "code",
   "execution_count": 22,
   "metadata": {
    "collapsed": false
   },
   "outputs": [
    {
     "data": {
      "text/plain": [
       "0.86536284039058731"
      ]
     },
     "execution_count": 22,
     "metadata": {},
     "output_type": "execute_result"
    }
   ],
   "source": [
    "roc_auc_score(y_test, predictions.prediction)"
   ]
  },
  {
   "cell_type": "markdown",
   "metadata": {},
   "source": [
    "Result of this exercise is almost equal to result from weight class in Logistic Regression above."
   ]
  },
  {
   "cell_type": "markdown",
   "metadata": {
    "collapsed": true
   },
   "source": [
    "## Balance Cascade"
   ]
  },
  {
   "cell_type": "markdown",
   "metadata": {},
   "source": [
    "In Balance Cascade we split our dataset intu minority and majority sets. We get all data points from minority set and sample from majority. Next, we remove out training majority examples from majority set and we predict on remaining set.\n",
    "We drop all correctly classified examples from majority_set."
   ]
  },
  {
   "cell_type": "code",
   "execution_count": 23,
   "metadata": {
    "collapsed": false
   },
   "outputs": [],
   "source": [
    "estimators = []\n",
    "minority_set = df.ix[X_train.index][y_train == 1]\n",
    "majority_set = df.ix[X_train.index][y_train == 0]\n",
    "iteration = 0\n",
    "\n",
    "while majority_set.shape[0] > 0:\n",
    "    sample_size = minority_set.shape[0]    \n",
    "       \n",
    "    if majority_set.shape[0] < sample_size:\n",
    "        sample_size = majority_set.shape[0]\n",
    "\n",
    "    idx = majority_set.sample(sample_size, random_state=42, replace=False).index\n",
    "    \n",
    "    X_train_sample = minority_set.append(majority_set.ix[idx]).drop('target', axis=1)\n",
    "    y_train_sample = minority_set.append(majority_set.ix[idx]).target\n",
    "\n",
    "    model = LogisticRegression()\n",
    "    model.fit(X_train_sample, y_train_sample)\n",
    "    estimators.append(('model_{}'.format(iteration), model))\n",
    "\n",
    "    majority_set.drop(idx, inplace=True)\n",
    "    \n",
    "    if majority_set.shape[0] == 0:\n",
    "        break    \n",
    "\n",
    "    predictions = model.predict(majority_set.drop('target', axis=1))\n",
    "    correctly_classified_examples = majority_set[predictions == majority_set.target]\n",
    "\n",
    "    majority_set.drop(correctly_classified_examples.index, inplace=True)"
   ]
  },
  {
   "cell_type": "code",
   "execution_count": 24,
   "metadata": {
    "collapsed": false
   },
   "outputs": [
    {
     "data": {
      "text/html": [
       "<div>\n",
       "<table border=\"1\" class=\"dataframe\">\n",
       "  <thead>\n",
       "    <tr style=\"text-align: right;\">\n",
       "      <th></th>\n",
       "      <th>target</th>\n",
       "      <th>model_0</th>\n",
       "      <th>probability</th>\n",
       "      <th>prediction</th>\n",
       "    </tr>\n",
       "  </thead>\n",
       "  <tbody>\n",
       "    <tr>\n",
       "      <th>6252</th>\n",
       "      <td>0</td>\n",
       "      <td>0.138257</td>\n",
       "      <td>0.138257</td>\n",
       "      <td>0</td>\n",
       "    </tr>\n",
       "    <tr>\n",
       "      <th>4684</th>\n",
       "      <td>0</td>\n",
       "      <td>0.297494</td>\n",
       "      <td>0.297494</td>\n",
       "      <td>0</td>\n",
       "    </tr>\n",
       "    <tr>\n",
       "      <th>1731</th>\n",
       "      <td>0</td>\n",
       "      <td>0.217115</td>\n",
       "      <td>0.217115</td>\n",
       "      <td>0</td>\n",
       "    </tr>\n",
       "    <tr>\n",
       "      <th>4742</th>\n",
       "      <td>1</td>\n",
       "      <td>0.805808</td>\n",
       "      <td>0.805808</td>\n",
       "      <td>1</td>\n",
       "    </tr>\n",
       "    <tr>\n",
       "      <th>4521</th>\n",
       "      <td>0</td>\n",
       "      <td>0.162828</td>\n",
       "      <td>0.162828</td>\n",
       "      <td>0</td>\n",
       "    </tr>\n",
       "  </tbody>\n",
       "</table>\n",
       "</div>"
      ],
      "text/plain": [
       "      target   model_0  probability  prediction\n",
       "6252       0  0.138257     0.138257           0\n",
       "4684       0  0.297494     0.297494           0\n",
       "1731       0  0.217115     0.217115           0\n",
       "4742       1  0.805808     0.805808           1\n",
       "4521       0  0.162828     0.162828           0"
      ]
     },
     "execution_count": 24,
     "metadata": {},
     "output_type": "execute_result"
    }
   ],
   "source": [
    "predictions = predict(X_test, y_test, estimators)\n",
    "predictions.head()"
   ]
  },
  {
   "cell_type": "markdown",
   "metadata": {},
   "source": [
    "Now, we can validate our ensemable methods."
   ]
  },
  {
   "cell_type": "code",
   "execution_count": 25,
   "metadata": {
    "collapsed": false
   },
   "outputs": [
    {
     "data": {
      "text/plain": [
       "array([[1602,  200],\n",
       "       [  44,  154]])"
      ]
     },
     "execution_count": 25,
     "metadata": {},
     "output_type": "execute_result"
    }
   ],
   "source": [
    "confusion_matrix(y_test, predictions.prediction, labels=[0, 1])"
   ]
  },
  {
   "cell_type": "code",
   "execution_count": 26,
   "metadata": {
    "collapsed": false
   },
   "outputs": [
    {
     "data": {
      "text/plain": [
       "0.83339499321741273"
      ]
     },
     "execution_count": 26,
     "metadata": {},
     "output_type": "execute_result"
    }
   ],
   "source": [
    "roc_auc_score(y_test, predictions.prediction)"
   ]
  },
  {
   "cell_type": "markdown",
   "metadata": {},
   "source": [
    "In this methods above, we lose information from majority class."
   ]
  },
  {
   "cell_type": "code",
   "execution_count": null,
   "metadata": {
    "collapsed": true
   },
   "outputs": [],
   "source": []
  }
 ],
 "metadata": {
  "kernelspec": {
   "display_name": "Python 2",
   "language": "python",
   "name": "python2"
  },
  "language_info": {
   "codemirror_mode": {
    "name": "ipython",
    "version": 2
   },
   "file_extension": ".py",
   "mimetype": "text/x-python",
   "name": "python",
   "nbconvert_exporter": "python",
   "pygments_lexer": "ipython2",
   "version": "2.7.10"
  }
 },
 "nbformat": 4,
 "nbformat_minor": 0
}
